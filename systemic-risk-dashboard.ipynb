{
 "cells": [
  {
   "cell_type": "markdown",
   "metadata": {
    "extensions": {
     "jupyter_dashboards": {
      "version": 1,
      "views": {
       "grid_default": {
        "col": 0,
        "height": 2,
        "hidden": false,
        "row": 0,
        "width": 12
       },
       "report_default": {}
      }
     }
    }
   },
   "source": [
    "# Systemic Risk Dashboard - A Data Science Approach to Predict the Impact of Collateralization on Systemic Risk "
   ]
  },
  {
   "cell_type": "code",
   "execution_count": 1,
   "metadata": {
    "extensions": {
     "jupyter_dashboards": {
      "version": 1,
      "views": {
       "grid_default": {
        "hidden": true
       },
       "report_default": {}
      }
     }
    }
   },
   "outputs": [],
   "source": [
    "import sys\n",
    "import math\n",
    "import json\n",
    "\n",
    "import numpy as np\n",
    "import pandas as pd\n",
    "\n",
    "import matplotlib as mpl\n",
    "from matplotlib import cm\n",
    "import matplotlib.pyplot as plt\n",
    "import seaborn as sns\n",
    "\n",
    "from bqplot import *\n",
    "\n",
    "import networkx as nx\n",
    "import visJS2jupyter.visJS_module\n",
    "\n",
    "from ipywidgets import Dropdown, Text, HBox, Button, VBox, RadioButtons, Layout\n",
    "from IPython.display import display, clear_output\n",
    "\n",
    "from webcolors import rgb_percent_to_hex"
   ]
  },
  {
   "cell_type": "code",
   "execution_count": 2,
   "metadata": {
    "extensions": {
     "jupyter_dashboards": {
      "version": 1,
      "views": {
       "grid_default": {
        "col": 0,
        "height": 4,
        "hidden": true,
        "row": 19,
        "width": 4
       },
       "report_default": {}
      }
     }
    }
   },
   "outputs": [
    {
     "data": {
      "text/html": [
       "<style>.container { width:100% !important; }</style>"
      ],
      "text/plain": [
       "<IPython.core.display.HTML object>"
      ]
     },
     "metadata": {},
     "output_type": "display_data"
    }
   ],
   "source": [
    "# Change notebook container width to full-screen (100%)\n",
    "\n",
    "from IPython.core.display import display, HTML\n",
    "display(HTML(\"<style>.container { width:100% !important; }</style>\"))"
   ]
  },
  {
   "cell_type": "code",
   "execution_count": 3,
   "metadata": {
    "extensions": {
     "jupyter_dashboards": {
      "version": 1,
      "views": {
       "grid_default": {
        "hidden": true
       },
       "report_default": {
        "hidden": true
       }
      }
     }
    }
   },
   "outputs": [],
   "source": [
    "df = pd.read_csv('df_exposures.csv')\n",
    "with open('nodes.json') as fp:\n",
    "    nodes = json.load(fp)\n",
    "with open('edges.json') as fp:\n",
    "    edges = json.load(fp)\n",
    "\n",
    "regulations = ['uncollateralized', 'vm_collateralized', 'im_vm_collateralized']\n",
    "financial_system_ids = df['FS'].unique().tolist()"
   ]
  },
  {
   "cell_type": "code",
   "execution_count": 4,
   "metadata": {
    "extensions": {
     "jupyter_dashboards": {
      "version": 1,
      "views": {
       "grid_default": {
        "hidden": true
       },
       "report_default": {
        "hidden": true
       }
      }
     }
    }
   },
   "outputs": [],
   "source": [
    "def load_data(seed=42):\n",
    "    np.random.seed(seed)\n",
    "    df = pd.read_csv('df_exposures.csv')\n",
    "    with open('nodes.json') as fp:\n",
    "        nodes = json.load(fp)\n",
    "    with open('edges.json') as fp:\n",
    "        edges = json.load(fp)\n",
    "\n",
    "    regulations = ['uncollateralized', 'vm_collateralized', 'im_vm_collateralized']\n",
    "    financial_system_ids = df['FS'].unique().tolist()\n",
    "    return df, nodes, edges, regulations, financial_system_ids\n",
    "\n",
    "class Model():\n",
    "    def __init__(self, df, nodes, edges, regulations, financial_system_ids):\n",
    "        self.df = df\n",
    "        self.nodes = nodes\n",
    "        self.edges = edges\n",
    "        self.regulations = regulations\n",
    "        self.financial_system_ids = financial_system_ids\n",
    "        self.menu = Menu(regulations, financial_system_ids)\n",
    "        self.w = None\n",
    "  \n",
    "    def draw_network(self):\n",
    "        reg = self.menu.reg_selector.value\n",
    "        fs_id = self.menu.fs_selector.value\n",
    "        G_nodes = self.nodes[reg][fs_id]\n",
    "        G_edges = self.edges[reg][fs_id]\n",
    "        \n",
    "        graph_type = self.menu.graph_type\n",
    "        G = nx.Graph()\n",
    "        G.add_edges_from(G_edges)\n",
    "        pos = nx.spring_layout(G)\n",
    "        nodes_dict = [{'id':'CP_' + str(n[0]),\n",
    "                       'node_label': 'CP_' + str(n[0]),\n",
    "                        'x':pos[n[0]][0]*1000,\n",
    "                        'y':pos[n[0]][1]*1000,\n",
    "                        'node_size':n[1]['BaselEEPE+']/100000,\n",
    "                        'color': mpl.colors.rgb2hex(cm.get_cmap('bwr')(n[1]['BaselEEPE_rho+'])),\n",
    "                       } for n in G_nodes] \n",
    "\n",
    "        node_map = dict(zip([n[0] for n in G_nodes], range(len(G_nodes)))) \n",
    "        edges_dict = [{'source':node_map[G_edges[i][0]], \n",
    "                       'target':node_map[G_edges[i][1]], \n",
    "                       'edge_width': math.log10(G_edges[i][2]['BaselEEPE']/10000 + 1),  # try taking log10()\n",
    "                              } for i in range(len(G_edges))]\n",
    "\n",
    "        if graph_type.value == 'Risk Graph':\n",
    "            self.w = visJS2jupyter.visJS_module.visjs_network(nodes_dict,edges_dict,\n",
    "                                      node_size_multiplier=0.5,\n",
    "                                      node_size_transform = '',\n",
    "                                      node_size_field='node_size',\n",
    "                                      node_label_field='node_label',\n",
    "                                      node_scaling_label_enabled=False,\n",
    "                                      node_color_highlight_border='red',\n",
    "                                      node_color_highlight_background='#D3918B',\n",
    "                                      node_color_hover_border='blue',\n",
    "                                      node_color_hover_background='#8BADD3',\n",
    "                                      node_font_size=25,\n",
    "                                      edge_width_field='edge_width',\n",
    "                                      edge_arrow_to=True,\n",
    "                                      physics_enabled=True,\n",
    "                                      edge_color_highlight='#8A324E',\n",
    "                                      edge_color_hover='#8BADD3',\n",
    "                                      edge_width=3,\n",
    "#                                       edge_width='edge_width',\n",
    "                                      max_velocity=15,\n",
    "                                      min_velocity=1,\n",
    "                                      graph_height=430,\n",
    "                                      graph_width='40%',\n",
    "                                      edge_smooth_enabled = True\n",
    "                                                        )\n",
    "\n",
    "            self.w.data = self.w.data.replace(\"\"\"height=\"1200px\" width=\"100%\"\"\", \"\"\"height=\"auto\" width=\"40%\"\"\") # change size of canvas\n",
    "            display(self.w)\n",
    "\n",
    "        else:\n",
    "            self.w = visJS2jupyter.visJS_module.visjs_network(nodes_dict,edges_dict,\n",
    "                                                                physics_enabled=True,\n",
    "                                                                graph_height=430,\n",
    "                                                                graph_width='40%',\n",
    "                                                                max_velocity=15,\n",
    "                                                                min_velocity=1,\n",
    "                                                             )\n",
    "            display(self.w)\n",
    "        \n",
    "class Menu():\n",
    "    def __init__(self, regulations, financial_system_ids):\n",
    "        self.regulations = regulations\n",
    "        self.financial_system_ids = financial_system_ids\n",
    "        \n",
    "        self.reg_text = Text(\"Regulatory Regime:\")\n",
    "        self.reg_selector = Dropdown(options = regulations) \n",
    "        self.fs_text = Text(\"Financial System:\")\n",
    "        self.fs_selector = Dropdown(options = financial_system_ids)\n",
    "        self.graph_type = RadioButtons(options=['Trade Relations', 'Risk Graph'],layout=Layout(width='20%', height='80px'), value='Risk Graph')\n",
    "        self.draw_button = Button(description=\"Load\")\n",
    "        self.is_menu_displayed = False\n",
    "    \n",
    "    def show(self):      \n",
    "        if self.is_menu_displayed == False: \n",
    "            display(HBox([self.graph_type, VBox([self.fs_text, self.fs_selector]), VBox([self.reg_text, self.reg_selector]), self.draw_button]))\n",
    "            self.is_menu_displayed = True"
   ]
  },
  {
   "cell_type": "code",
   "execution_count": 5,
   "metadata": {
    "extensions": {
     "jupyter_dashboards": {
      "version": 1,
      "views": {
       "grid_default": {
        "hidden": true
       },
       "report_default": {
        "hidden": true
       }
      }
     }
    }
   },
   "outputs": [],
   "source": [
    "df, nodes, edges, regulations, financial_system_ids = load_data()\n",
    "model = Model(df, nodes, edges, regulations, financial_system_ids)"
   ]
  },
  {
   "cell_type": "code",
   "execution_count": 6,
   "metadata": {
    "extensions": {
     "jupyter_dashboards": {
      "version": 1,
      "views": {
       "grid_default": {
        "col": null,
        "height": 14,
        "hidden": true,
        "row": 12,
        "width": null
       },
       "report_default": {
        "hidden": false
       }
      }
     }
    }
   },
   "outputs": [],
   "source": [
    "# bqplot graph 1\n",
    "x1 = model.regulations\n",
    "df_total1 = model.df[model.regulations][(model.df['metric']=='BaselEEPE+') & (model.df['FS']==model.menu.fs_selector.value)].sum()\n",
    "y1 = df_total1.as_matrix()/1000000\n",
    "\n",
    "xs1 = OrdinalScale()\n",
    "ys1 = LinearScale()\n",
    "\n",
    "bar1 = Bars(x=x1, y=y1, \n",
    "            scales={'x': xs1, 'y': ys1}, \n",
    "            colors=['#1f77b4', '#ff7f0e', '#2ca02c'],\n",
    "            padding=0.2\n",
    "           )\n",
    "xax1 = Axis(scale=xs1)\n",
    "yax1 = Axis(scale=ys1,\n",
    "            label='EEPE+ in USD (in millions)', \n",
    "            label_offset='47px', \n",
    "            orientation='vertical', \n",
    "            tick_format='0.1f', \n",
    "            grid_lines='solid'\n",
    "           )\n",
    "fig_layout = Layout(width='50%',\n",
    "                    display='flex',\n",
    "                    align_items='stretch',\n",
    "                    justify_content='flex-start',\n",
    "                    max_aspect_ratio=100,\n",
    "                   )\n",
    "\n",
    "fig1 = Figure(title='Impact of Collateralization on Systemic Risk', \n",
    "              marks=[bar1], \n",
    "              axes=[xax1, yax1], \n",
    "              layout=fig_layout,\n",
    "              animation_duration=1000\n",
    "             )"
   ]
  },
  {
   "cell_type": "code",
   "execution_count": 7,
   "metadata": {
    "extensions": {
     "jupyter_dashboards": {
      "version": 1,
      "views": {
       "grid_default": {
        "col": null,
        "height": 13,
        "hidden": true,
        "row": 17,
        "width": null
       },
       "report_default": {
        "hidden": false
       }
      }
     }
    }
   },
   "outputs": [],
   "source": [
    "# bqplot graph 2\n",
    "\n",
    "x2 = ['CP_{}'.format(x) for x in range (0, 14)]\n",
    "df_eepep = model.df[['CP']+model.regulations][(model.df['metric']=='BaselEEPE+') & (model.df['FS']==model.menu.fs_selector.value)].set_index('CP')\n",
    "y2 = df_eepep.T.as_matrix()/1000000\n",
    "\n",
    "xs2 = OrdinalScale()\n",
    "ys2 = LinearScale(min=0)\n",
    "\n",
    "bar2 = Bars(x=x2, y=y2, \n",
    "            type='grouped',\n",
    "            scales={'x': xs2, 'y': ys2}, \n",
    "            colors=['#1f77b4', '#ff7f0e', '#2ca02c'],\n",
    "            labels=model.regulations,\n",
    "            display_legend=True,\n",
    "            padding=0.2)\n",
    "\n",
    "xax2 = Axis(scale=xs2)\n",
    "\n",
    "yax2 = Axis(scale=ys2,\n",
    "            label='EEPE+ in USD (in millions)', \n",
    "            label_offset='47px', \n",
    "            orientation='vertical', \n",
    "            tick_format='0.1f', \n",
    "            grid_lines='solid')\n",
    "fig2 = Figure(title='Impact of Collateralization on Systemic Risk By Counterparty', \n",
    "              marks=[bar2], \n",
    "              axes=[xax2, yax2], \n",
    "              legend_location='top-right',\n",
    "              layout=fig_layout,\n",
    "              animation_duration=1000\n",
    "             )"
   ]
  },
  {
   "cell_type": "code",
   "execution_count": 8,
   "metadata": {
    "extensions": {
     "jupyter_dashboards": {
      "version": 1,
      "views": {
       "grid_default": {
        "col": null,
        "height": 17,
        "hidden": true,
        "row": 17,
        "width": null
       },
       "report_default": {
        "hidden": false
       }
      }
     }
    }
   },
   "outputs": [],
   "source": [
    "# bqplot graph 3\n",
    "\n",
    "x3 = ['uncollateralized', 'vm_collateralized', 'im_vm_collateralized', '     '] # hacky legend stuff, should change in final to be model.regulations perhaps\n",
    "\n",
    "df_eepep_rhop = model.df[['CP']+model.regulations][(model.df['metric']=='BaselEEPE_rho+') & (model.df['FS']==model.menu.fs_selector.value)].set_index('CP')\n",
    "df_eepep_rhop[df_eepep_rhop.columns] = df_eepep_rhop[df_eepep_rhop.columns].div(df_eepep_rhop[df_eepep_rhop.columns].sum(axis=0), axis=1).multiply(100)\n",
    "df_eepep_rhop['     '] = 0 #five spaces\n",
    "y3 = df_eepep_rhop.as_matrix()\n",
    "\n",
    "xs3 = OrdinalScale()\n",
    "ys3 = LinearScale(min=0)\n",
    "cs3 = OrdinalColorScale(colors=['Red','Blue'])\n",
    "\n",
    "NUM_COLORS3 = 15\n",
    "CMAP3 = cm.get_cmap('tab20c')\n",
    "colors3 = [CMAP3(1.*i/NUM_COLORS3) for i in range(0,NUM_COLORS3)]\n",
    "\n",
    "colors3_hex = [rgb_percent_to_hex(((str(color[0]*100)+'%'), (str(color[1]*100)+'%'), (str(color[2]*100)+'%'))) for color in colors3]\n",
    "\n",
    "bar3 = Bars(x=x3, y=y3, \n",
    "            scales={'x': xs3, \n",
    "                    'y': ys3,\n",
    "                    'color' : cs3\n",
    "                   },\n",
    "            labels=['CP_{}'.format(x) for x in range(0, NUM_COLORS3)],\n",
    "            colors=colors3_hex,\n",
    "            display_legend=True,\n",
    "            padding=0.2\n",
    "           )\n",
    "\n",
    "xax3 = Axis(scale=xs3)\n",
    "yax3 = Axis(scale=ys3,\n",
    "            label='Rho+ In %', \n",
    "            label_offset='49px', \n",
    "            orientation='vertical', \n",
    "            tick_format='0.1f', \n",
    "            grid_lines='solid'\n",
    "           )\n",
    "\n",
    "fig3 = Figure(title='Concentration of Risk', \n",
    "              marks=[bar3], \n",
    "              axes=[xax3, yax3], \n",
    "              legend_location='top-right',\n",
    "              layout=fig_layout,\n",
    "              animation_duration=1000, \n",
    "             )"
   ]
  },
  {
   "cell_type": "code",
   "execution_count": 9,
   "metadata": {
    "extensions": {
     "jupyter_dashboards": {
      "version": 1,
      "views": {
       "grid_default": {
        "col": null,
        "height": 16,
        "hidden": false,
        "row": 5,
        "width": null
       },
       "report_default": {
        "hidden": false
       }
      }
     }
    }
   },
   "outputs": [
    {
     "data": {
      "application/vnd.jupyter.widget-view+json": {
       "model_id": "e53cb85325b7465e93a909e142b28322",
       "version_major": 2,
       "version_minor": 0
      },
      "text/html": [
       "<p>Failed to display Jupyter Widget of type <code>HBox</code>.</p>\n",
       "<p>\n",
       "  If you're reading this message in the Jupyter Notebook or JupyterLab Notebook, it may mean\n",
       "  that the widgets JavaScript is still loading. If this message persists, it\n",
       "  likely means that the widgets JavaScript library is either not installed or\n",
       "  not enabled. See the <a href=\"https://ipywidgets.readthedocs.io/en/stable/user_install.html\">Jupyter\n",
       "  Widgets Documentation</a> for setup instructions.\n",
       "</p>\n",
       "<p>\n",
       "  If you're reading this message in another frontend (for example, a static\n",
       "  rendering on GitHub or <a href=\"https://nbviewer.jupyter.org/\">NBViewer</a>),\n",
       "  it may mean that your frontend doesn't currently support widgets.\n",
       "</p>\n"
      ],
      "text/plain": [
       "HBox(children=(Figure(fig_margin={'top': 60, 'bottom': 60, 'left': 60, 'right': 60}, layout=Layout(width='50%'), scale_x=LinearScale(allow_padding=False, max=1.0, min=0.0), scale_y=LinearScale(allow_padding=False, max=1.0, min=0.0)), Figure(animation_duration=1000, axes=[Axis(scale=OrdinalScale()), Axis(label='EEPE+ in USD (in millions)', label_offset='47px', orientation='vertical', scale=LinearScale(), tick_format='0.1f')], fig_margin={'top': 60, 'bottom': 60, 'left': 60, 'right': 60}, layout=Layout(align_items='stretch', display='flex', justify_content='flex-start', width='50%'), marks=[Bars(colors=['#1f77b4', '#ff7f0e', '#2ca02c'], interactions={'hover': 'tooltip'}, padding=0.2, scales={'x': OrdinalScale(), 'y': LinearScale()}, scales_metadata={'x': {'orientation': 'horizontal', 'dimension': 'x'}, 'y': {'orientation': 'vertical', 'dimension': 'y'}, 'color': {'dimension': 'color'}}, tooltip_style={'opacity': 0.9}, x=array(['uncollateralized', 'vm_collateralized', 'im_vm_collateralized'],\n",
       "      dtype='<U20'), y=array([110.1633856 ,  40.55716875,   9.18052591]))], scale_x=LinearScale(allow_padding=False, max=1.0, min=0.0), scale_y=LinearScale(allow_padding=False, max=1.0, min=0.0), title='Impact of Collateralization on Systemic Risk')))"
      ]
     },
     "metadata": {},
     "output_type": "display_data"
    }
   ],
   "source": [
    "figsw1_list = [Figure(layout=Layout(width='50%')), fig1]\n",
    "display(widgets.HBox(figsw1_list, align_content = 'stretch'))"
   ]
  },
  {
   "cell_type": "code",
   "execution_count": 10,
   "metadata": {
    "extensions": {
     "jupyter_dashboards": {
      "version": 1,
      "views": {
       "grid_default": {
        "col": 0,
        "height": 16,
        "hidden": false,
        "row": 21,
        "width": null
       },
       "report_default": {
        "hidden": false
       }
      }
     }
    },
    "scrolled": false
   },
   "outputs": [
    {
     "data": {
      "application/vnd.jupyter.widget-view+json": {
       "model_id": "658288fb11dd42bfb947fc762b47f72d",
       "version_major": 2,
       "version_minor": 0
      },
      "text/html": [
       "<p>Failed to display Jupyter Widget of type <code>HBox</code>.</p>\n",
       "<p>\n",
       "  If you're reading this message in the Jupyter Notebook or JupyterLab Notebook, it may mean\n",
       "  that the widgets JavaScript is still loading. If this message persists, it\n",
       "  likely means that the widgets JavaScript library is either not installed or\n",
       "  not enabled. See the <a href=\"https://ipywidgets.readthedocs.io/en/stable/user_install.html\">Jupyter\n",
       "  Widgets Documentation</a> for setup instructions.\n",
       "</p>\n",
       "<p>\n",
       "  If you're reading this message in another frontend (for example, a static\n",
       "  rendering on GitHub or <a href=\"https://nbviewer.jupyter.org/\">NBViewer</a>),\n",
       "  it may mean that your frontend doesn't currently support widgets.\n",
       "</p>\n"
      ],
      "text/plain": [
       "HBox(children=(Figure(animation_duration=1000, axes=[Axis(scale=OrdinalScale()), Axis(label='EEPE+ in USD (in millions)', label_offset='47px', orientation='vertical', scale=LinearScale(min=0.0), tick_format='0.1f')], fig_margin={'top': 60, 'bottom': 60, 'left': 60, 'right': 60}, layout=Layout(align_items='stretch', display='flex', justify_content='flex-start', width='50%'), marks=[Bars(colors=['#1f77b4', '#ff7f0e', '#2ca02c'], display_legend=True, interactions={'hover': 'tooltip'}, labels=['uncollateralized', 'vm_collateralized', 'im_vm_collateralized'], padding=0.2, scales={'x': OrdinalScale(), 'y': LinearScale(min=0.0)}, scales_metadata={'x': {'orientation': 'horizontal', 'dimension': 'x'}, 'y': {'orientation': 'vertical', 'dimension': 'y'}, 'color': {'dimension': 'color'}}, tooltip_style={'opacity': 0.9}, type='grouped', x=array(['CP_0', 'CP_1', 'CP_2', 'CP_3', 'CP_4', 'CP_5', 'CP_6', 'CP_7',\n",
       "       'CP_8', 'CP_9', 'CP_10', 'CP_11', 'CP_12', 'CP_13'], dtype='<U5'), y=array([[16.41184463,  7.34325207, 13.33568375, 10.07590049,  7.25830559,\n",
       "        13.59369258,  3.49313757,  5.92010757,  6.39730388,  8.30187075,\n",
       "         4.96875025,  7.44240696,  5.62112951],\n",
       "       [ 3.20079473,  1.39372843,  3.75794329,  4.04858279,  3.38871265,\n",
       "         3.23666843,  1.92709781,  3.60873123,  1.15313725,  3.05867049,\n",
       "         3.73631094,  2.78815713,  5.25863358],\n",
       "       [ 0.57951074,  0.16646472,  1.04307846,  0.26002273,  1.85326487,\n",
       "         0.77958458,  0.0545572 ,  0.29932582,  0.04137265,  1.12910997,\n",
       "         0.94402034,  0.47892422,  1.55128961]]))], scale_x=LinearScale(allow_padding=False, max=1.0, min=0.0), scale_y=LinearScale(allow_padding=False, max=1.0, min=0.0), title='Impact of Collateralization on Systemic Risk By Counterparty'), Figure(animation_duration=1000, axes=[Axis(scale=OrdinalScale()), Axis(label='Rho+ In %', label_offset='49px', orientation='vertical', scale=LinearScale(min=0.0), tick_format='0.1f')], fig_margin={'top': 60, 'bottom': 60, 'left': 60, 'right': 60}, layout=Layout(align_items='stretch', display='flex', justify_content='flex-start', width='50%'), marks=[Bars(colors=['#3182bd', '#6baed6', '#9ecae1', '#e6550d', '#fd8d3c', '#fdae6b', '#31a354', '#74c476', '#a1d99b', '#756bb1', '#9e9ac8', '#bcbddc', '#636363', '#969696', '#bdbdbd'], display_legend=True, interactions={'hover': 'tooltip'}, labels=['CP_0', 'CP_1', 'CP_2', 'CP_3', 'CP_4', 'CP_5', 'CP_6', 'CP_7', 'CP_8', 'CP_9', 'CP_10', 'CP_11', 'CP_12', 'CP_13', 'CP_14'], padding=0.2, scales={'x': OrdinalScale(), 'y': LinearScale(min=0.0), 'color': OrdinalColorScale(colors=['Red', 'Blue'])}, scales_metadata={'x': {'orientation': 'horizontal', 'dimension': 'x'}, 'y': {'orientation': 'vertical', 'dimension': 'y'}, 'color': {'dimension': 'color'}}, tooltip_style={'opacity': 0.9}, x=array(['uncollateralized', 'vm_collateralized', 'im_vm_collateralized',\n",
       "       '     '], dtype='<U20'), y=array([[14.8977308 ,  7.89205664,  6.31239153,  0.        ],\n",
       "       [ 6.66578286,  3.43645396,  1.8132373 ,  0.        ],\n",
       "       [12.10536847,  9.26579297, 11.36185955,  0.        ],\n",
       "       [ 9.14632428,  9.98240981,  2.83232935,  0.        ],\n",
       "       [ 6.58867332,  8.35539747, 20.186914  ,  0.        ],\n",
       "       [12.33957408,  7.98050882,  8.49172027,  0.        ],\n",
       "       [ 3.17086984,  4.75155902,  0.59427097,  0.        ],\n",
       "       [ 5.37393394,  8.89788745,  3.26044306,  0.        ],\n",
       "       [ 5.80710537,  2.84323903,  0.45065664,  0.        ],\n",
       "       [ 7.53596188,  7.54162725, 12.29896828,  0.        ],\n",
       "       [ 4.51034636,  9.21245505, 10.28285688,  0.        ],\n",
       "       [ 6.75578997,  6.87463454,  5.21674057,  0.        ],\n",
       "       [ 5.10253881, 12.96597801, 16.89761159,  0.        ]]))], scale_x=LinearScale(allow_padding=False, max=1.0, min=0.0), scale_y=LinearScale(allow_padding=False, max=1.0, min=0.0), title='Concentration of Risk')))"
      ]
     },
     "metadata": {},
     "output_type": "display_data"
    }
   ],
   "source": [
    "figs23_list = [fig2, fig3]\n",
    "display(widgets.HBox(figs23_list, align_content = 'stretch'))"
   ]
  },
  {
   "cell_type": "code",
   "execution_count": 11,
   "metadata": {
    "extensions": {
     "jupyter_dashboards": {
      "version": 1,
      "views": {
       "grid_default": {
        "col": 0,
        "height": 3,
        "hidden": false,
        "row": 2,
        "width": 12
       },
       "report_default": {
        "hidden": false
       }
      }
     }
    }
   },
   "outputs": [
    {
     "data": {
      "application/vnd.jupyter.widget-view+json": {
       "model_id": "747ef43c5aa848bea8034ff3b2742098",
       "version_major": 2,
       "version_minor": 0
      },
      "text/html": [
       "<p>Failed to display Jupyter Widget of type <code>HBox</code>.</p>\n",
       "<p>\n",
       "  If you're reading this message in the Jupyter Notebook or JupyterLab Notebook, it may mean\n",
       "  that the widgets JavaScript is still loading. If this message persists, it\n",
       "  likely means that the widgets JavaScript library is either not installed or\n",
       "  not enabled. See the <a href=\"https://ipywidgets.readthedocs.io/en/stable/user_install.html\">Jupyter\n",
       "  Widgets Documentation</a> for setup instructions.\n",
       "</p>\n",
       "<p>\n",
       "  If you're reading this message in another frontend (for example, a static\n",
       "  rendering on GitHub or <a href=\"https://nbviewer.jupyter.org/\">NBViewer</a>),\n",
       "  it may mean that your frontend doesn't currently support widgets.\n",
       "</p>\n"
      ],
      "text/plain": [
       "HBox(children=(RadioButtons(index=1, layout=Layout(height='80px', width='20%'), options=('Trade Relations', 'Risk Graph'), value='Risk Graph'), VBox(children=(Text(value='Financial System:'), Dropdown(options=(0, 1, 2, 3, 4), value=0))), VBox(children=(Text(value='Regulatory Regime:'), Dropdown(options=('uncollateralized', 'vm_collateralized', 'im_vm_collateralized'), value='uncollateralized'))), Button(description='Load', style=ButtonStyle())))"
      ]
     },
     "metadata": {},
     "output_type": "display_data"
    },
    {
     "data": {
      "application/javascript": [
       "IPython.notebook.execute_cell_range(IPython.notebook.get_selected_index()+1, IPython.notebook.ncells())"
      ],
      "text/plain": [
       "<IPython.core.display.Javascript object>"
      ]
     },
     "metadata": {},
     "output_type": "display_data"
    },
    {
     "data": {
      "application/javascript": [
       "IPython.notebook.execute_cell_range(IPython.notebook.get_selected_index()+1, IPython.notebook.ncells())"
      ],
      "text/plain": [
       "<IPython.core.display.Javascript object>"
      ]
     },
     "metadata": {},
     "output_type": "display_data"
    },
    {
     "data": {
      "application/javascript": [
       "IPython.notebook.execute_cell_range(IPython.notebook.get_selected_index()+1, IPython.notebook.ncells())"
      ],
      "text/plain": [
       "<IPython.core.display.Javascript object>"
      ]
     },
     "metadata": {},
     "output_type": "display_data"
    },
    {
     "data": {
      "application/javascript": [
       "IPython.notebook.execute_cell_range(IPython.notebook.get_selected_index()+1, IPython.notebook.ncells())"
      ],
      "text/plain": [
       "<IPython.core.display.Javascript object>"
      ]
     },
     "metadata": {},
     "output_type": "display_data"
    },
    {
     "data": {
      "application/javascript": [
       "IPython.notebook.execute_cell_range(IPython.notebook.get_selected_index()+1, IPython.notebook.ncells())"
      ],
      "text/plain": [
       "<IPython.core.display.Javascript object>"
      ]
     },
     "metadata": {},
     "output_type": "display_data"
    },
    {
     "data": {
      "application/javascript": [
       "IPython.notebook.execute_cell_range(IPython.notebook.get_selected_index()+1, IPython.notebook.ncells())"
      ],
      "text/plain": [
       "<IPython.core.display.Javascript object>"
      ]
     },
     "metadata": {},
     "output_type": "display_data"
    },
    {
     "data": {
      "application/javascript": [
       "IPython.notebook.execute_cell_range(IPython.notebook.get_selected_index()+1, IPython.notebook.ncells())"
      ],
      "text/plain": [
       "<IPython.core.display.Javascript object>"
      ]
     },
     "metadata": {},
     "output_type": "display_data"
    },
    {
     "data": {
      "application/javascript": [
       "IPython.notebook.execute_cell_range(IPython.notebook.get_selected_index()+1, IPython.notebook.ncells())"
      ],
      "text/plain": [
       "<IPython.core.display.Javascript object>"
      ]
     },
     "metadata": {},
     "output_type": "display_data"
    },
    {
     "data": {
      "application/javascript": [
       "IPython.notebook.execute_cell_range(IPython.notebook.get_selected_index()+1, IPython.notebook.ncells())"
      ],
      "text/plain": [
       "<IPython.core.display.Javascript object>"
      ]
     },
     "metadata": {},
     "output_type": "display_data"
    },
    {
     "data": {
      "application/javascript": [
       "IPython.notebook.execute_cell_range(IPython.notebook.get_selected_index()+1, IPython.notebook.ncells())"
      ],
      "text/plain": [
       "<IPython.core.display.Javascript object>"
      ]
     },
     "metadata": {},
     "output_type": "display_data"
    },
    {
     "data": {
      "application/javascript": [
       "IPython.notebook.execute_cell_range(IPython.notebook.get_selected_index()+1, IPython.notebook.ncells())"
      ],
      "text/plain": [
       "<IPython.core.display.Javascript object>"
      ]
     },
     "metadata": {},
     "output_type": "display_data"
    },
    {
     "data": {
      "application/javascript": [
       "IPython.notebook.execute_cell_range(IPython.notebook.get_selected_index()+1, IPython.notebook.ncells())"
      ],
      "text/plain": [
       "<IPython.core.display.Javascript object>"
      ]
     },
     "metadata": {},
     "output_type": "display_data"
    },
    {
     "data": {
      "application/javascript": [
       "IPython.notebook.execute_cell_range(IPython.notebook.get_selected_index()+1, IPython.notebook.ncells())"
      ],
      "text/plain": [
       "<IPython.core.display.Javascript object>"
      ]
     },
     "metadata": {},
     "output_type": "display_data"
    },
    {
     "data": {
      "application/javascript": [
       "IPython.notebook.execute_cell_range(IPython.notebook.get_selected_index()+1, IPython.notebook.ncells())"
      ],
      "text/plain": [
       "<IPython.core.display.Javascript object>"
      ]
     },
     "metadata": {},
     "output_type": "display_data"
    },
    {
     "data": {
      "application/javascript": [
       "IPython.notebook.execute_cell_range(IPython.notebook.get_selected_index()+1, IPython.notebook.ncells())"
      ],
      "text/plain": [
       "<IPython.core.display.Javascript object>"
      ]
     },
     "metadata": {},
     "output_type": "display_data"
    },
    {
     "data": {
      "application/javascript": [
       "IPython.notebook.execute_cell_range(IPython.notebook.get_selected_index()+1, IPython.notebook.ncells())"
      ],
      "text/plain": [
       "<IPython.core.display.Javascript object>"
      ]
     },
     "metadata": {},
     "output_type": "display_data"
    },
    {
     "data": {
      "application/javascript": [
       "IPython.notebook.execute_cell_range(IPython.notebook.get_selected_index()+1, IPython.notebook.ncells())"
      ],
      "text/plain": [
       "<IPython.core.display.Javascript object>"
      ]
     },
     "metadata": {},
     "output_type": "display_data"
    },
    {
     "data": {
      "application/javascript": [
       "IPython.notebook.execute_cell_range(IPython.notebook.get_selected_index()+1, IPython.notebook.ncells())"
      ],
      "text/plain": [
       "<IPython.core.display.Javascript object>"
      ]
     },
     "metadata": {},
     "output_type": "display_data"
    },
    {
     "data": {
      "application/javascript": [
       "IPython.notebook.execute_cell_range(IPython.notebook.get_selected_index()+1, IPython.notebook.ncells())"
      ],
      "text/plain": [
       "<IPython.core.display.Javascript object>"
      ]
     },
     "metadata": {},
     "output_type": "display_data"
    },
    {
     "data": {
      "application/javascript": [
       "IPython.notebook.execute_cell_range(IPython.notebook.get_selected_index()+1, IPython.notebook.ncells())"
      ],
      "text/plain": [
       "<IPython.core.display.Javascript object>"
      ]
     },
     "metadata": {},
     "output_type": "display_data"
    },
    {
     "data": {
      "application/javascript": [
       "IPython.notebook.execute_cell_range(IPython.notebook.get_selected_index()+1, IPython.notebook.ncells())"
      ],
      "text/plain": [
       "<IPython.core.display.Javascript object>"
      ]
     },
     "metadata": {},
     "output_type": "display_data"
    },
    {
     "data": {
      "application/javascript": [
       "IPython.notebook.execute_cell_range(IPython.notebook.get_selected_index()+1, IPython.notebook.ncells())"
      ],
      "text/plain": [
       "<IPython.core.display.Javascript object>"
      ]
     },
     "metadata": {},
     "output_type": "display_data"
    },
    {
     "data": {
      "application/javascript": [
       "IPython.notebook.execute_cell_range(IPython.notebook.get_selected_index()+1, IPython.notebook.ncells())"
      ],
      "text/plain": [
       "<IPython.core.display.Javascript object>"
      ]
     },
     "metadata": {},
     "output_type": "display_data"
    },
    {
     "data": {
      "application/javascript": [
       "IPython.notebook.execute_cell_range(IPython.notebook.get_selected_index()+1, IPython.notebook.ncells())"
      ],
      "text/plain": [
       "<IPython.core.display.Javascript object>"
      ]
     },
     "metadata": {},
     "output_type": "display_data"
    },
    {
     "data": {
      "application/javascript": [
       "IPython.notebook.execute_cell_range(IPython.notebook.get_selected_index()+1, IPython.notebook.ncells())"
      ],
      "text/plain": [
       "<IPython.core.display.Javascript object>"
      ]
     },
     "metadata": {},
     "output_type": "display_data"
    },
    {
     "data": {
      "application/javascript": [
       "IPython.notebook.execute_cell_range(IPython.notebook.get_selected_index()+1, IPython.notebook.ncells())"
      ],
      "text/plain": [
       "<IPython.core.display.Javascript object>"
      ]
     },
     "metadata": {},
     "output_type": "display_data"
    },
    {
     "data": {
      "application/javascript": [
       "IPython.notebook.execute_cell_range(IPython.notebook.get_selected_index()+1, IPython.notebook.ncells())"
      ],
      "text/plain": [
       "<IPython.core.display.Javascript object>"
      ]
     },
     "metadata": {},
     "output_type": "display_data"
    },
    {
     "data": {
      "application/javascript": [
       "IPython.notebook.execute_cell_range(IPython.notebook.get_selected_index()+1, IPython.notebook.ncells())"
      ],
      "text/plain": [
       "<IPython.core.display.Javascript object>"
      ]
     },
     "metadata": {},
     "output_type": "display_data"
    },
    {
     "data": {
      "application/javascript": [
       "IPython.notebook.execute_cell_range(IPython.notebook.get_selected_index()+1, IPython.notebook.ncells())"
      ],
      "text/plain": [
       "<IPython.core.display.Javascript object>"
      ]
     },
     "metadata": {},
     "output_type": "display_data"
    },
    {
     "data": {
      "application/javascript": [
       "IPython.notebook.execute_cell_range(IPython.notebook.get_selected_index()+1, IPython.notebook.ncells())"
      ],
      "text/plain": [
       "<IPython.core.display.Javascript object>"
      ]
     },
     "metadata": {},
     "output_type": "display_data"
    },
    {
     "data": {
      "application/javascript": [
       "IPython.notebook.execute_cell_range(IPython.notebook.get_selected_index()+1, IPython.notebook.ncells())"
      ],
      "text/plain": [
       "<IPython.core.display.Javascript object>"
      ]
     },
     "metadata": {},
     "output_type": "display_data"
    },
    {
     "data": {
      "application/javascript": [
       "IPython.notebook.execute_cell_range(IPython.notebook.get_selected_index()+1, IPython.notebook.ncells())"
      ],
      "text/plain": [
       "<IPython.core.display.Javascript object>"
      ]
     },
     "metadata": {},
     "output_type": "display_data"
    },
    {
     "data": {
      "application/javascript": [
       "IPython.notebook.execute_cell_range(IPython.notebook.get_selected_index()+1, IPython.notebook.ncells())"
      ],
      "text/plain": [
       "<IPython.core.display.Javascript object>"
      ]
     },
     "metadata": {},
     "output_type": "display_data"
    },
    {
     "data": {
      "application/javascript": [
       "IPython.notebook.execute_cell_range(IPython.notebook.get_selected_index()+1, IPython.notebook.ncells())"
      ],
      "text/plain": [
       "<IPython.core.display.Javascript object>"
      ]
     },
     "metadata": {},
     "output_type": "display_data"
    },
    {
     "data": {
      "application/javascript": [
       "IPython.notebook.execute_cell_range(IPython.notebook.get_selected_index()+1, IPython.notebook.ncells())"
      ],
      "text/plain": [
       "<IPython.core.display.Javascript object>"
      ]
     },
     "metadata": {},
     "output_type": "display_data"
    },
    {
     "data": {
      "application/javascript": [
       "IPython.notebook.execute_cell_range(IPython.notebook.get_selected_index()+1, IPython.notebook.ncells())"
      ],
      "text/plain": [
       "<IPython.core.display.Javascript object>"
      ]
     },
     "metadata": {},
     "output_type": "display_data"
    },
    {
     "data": {
      "application/javascript": [
       "IPython.notebook.execute_cell_range(IPython.notebook.get_selected_index()+1, IPython.notebook.ncells())"
      ],
      "text/plain": [
       "<IPython.core.display.Javascript object>"
      ]
     },
     "metadata": {},
     "output_type": "display_data"
    },
    {
     "data": {
      "application/javascript": [
       "IPython.notebook.execute_cell_range(IPython.notebook.get_selected_index()+1, IPython.notebook.ncells())"
      ],
      "text/plain": [
       "<IPython.core.display.Javascript object>"
      ]
     },
     "metadata": {},
     "output_type": "display_data"
    },
    {
     "data": {
      "application/javascript": [
       "IPython.notebook.execute_cell_range(IPython.notebook.get_selected_index()+1, IPython.notebook.ncells())"
      ],
      "text/plain": [
       "<IPython.core.display.Javascript object>"
      ]
     },
     "metadata": {},
     "output_type": "display_data"
    },
    {
     "data": {
      "application/javascript": [
       "IPython.notebook.execute_cell_range(IPython.notebook.get_selected_index()+1, IPython.notebook.ncells())"
      ],
      "text/plain": [
       "<IPython.core.display.Javascript object>"
      ]
     },
     "metadata": {},
     "output_type": "display_data"
    },
    {
     "data": {
      "application/javascript": [
       "IPython.notebook.execute_cell_range(IPython.notebook.get_selected_index()+1, IPython.notebook.ncells())"
      ],
      "text/plain": [
       "<IPython.core.display.Javascript object>"
      ]
     },
     "metadata": {},
     "output_type": "display_data"
    },
    {
     "data": {
      "application/javascript": [
       "IPython.notebook.execute_cell_range(IPython.notebook.get_selected_index()+1, IPython.notebook.ncells())"
      ],
      "text/plain": [
       "<IPython.core.display.Javascript object>"
      ]
     },
     "metadata": {},
     "output_type": "display_data"
    },
    {
     "data": {
      "application/javascript": [
       "IPython.notebook.execute_cell_range(IPython.notebook.get_selected_index()+1, IPython.notebook.ncells())"
      ],
      "text/plain": [
       "<IPython.core.display.Javascript object>"
      ]
     },
     "metadata": {},
     "output_type": "display_data"
    },
    {
     "data": {
      "application/javascript": [
       "IPython.notebook.execute_cell_range(IPython.notebook.get_selected_index()+1, IPython.notebook.ncells())"
      ],
      "text/plain": [
       "<IPython.core.display.Javascript object>"
      ]
     },
     "metadata": {},
     "output_type": "display_data"
    },
    {
     "data": {
      "application/javascript": [
       "IPython.notebook.execute_cell_range(IPython.notebook.get_selected_index()+1, IPython.notebook.ncells())"
      ],
      "text/plain": [
       "<IPython.core.display.Javascript object>"
      ]
     },
     "metadata": {},
     "output_type": "display_data"
    },
    {
     "data": {
      "application/javascript": [
       "IPython.notebook.execute_cell_range(IPython.notebook.get_selected_index()+1, IPython.notebook.ncells())"
      ],
      "text/plain": [
       "<IPython.core.display.Javascript object>"
      ]
     },
     "metadata": {},
     "output_type": "display_data"
    },
    {
     "data": {
      "application/javascript": [
       "IPython.notebook.execute_cell_range(IPython.notebook.get_selected_index()+1, IPython.notebook.ncells())"
      ],
      "text/plain": [
       "<IPython.core.display.Javascript object>"
      ]
     },
     "metadata": {},
     "output_type": "display_data"
    },
    {
     "data": {
      "application/javascript": [
       "IPython.notebook.execute_cell_range(IPython.notebook.get_selected_index()+1, IPython.notebook.ncells())"
      ],
      "text/plain": [
       "<IPython.core.display.Javascript object>"
      ]
     },
     "metadata": {},
     "output_type": "display_data"
    },
    {
     "data": {
      "application/javascript": [
       "IPython.notebook.execute_cell_range(IPython.notebook.get_selected_index()+1, IPython.notebook.ncells())"
      ],
      "text/plain": [
       "<IPython.core.display.Javascript object>"
      ]
     },
     "metadata": {},
     "output_type": "display_data"
    },
    {
     "data": {
      "application/javascript": [
       "IPython.notebook.execute_cell_range(IPython.notebook.get_selected_index()+1, IPython.notebook.ncells())"
      ],
      "text/plain": [
       "<IPython.core.display.Javascript object>"
      ]
     },
     "metadata": {},
     "output_type": "display_data"
    },
    {
     "data": {
      "application/javascript": [
       "IPython.notebook.execute_cell_range(IPython.notebook.get_selected_index()+1, IPython.notebook.ncells())"
      ],
      "text/plain": [
       "<IPython.core.display.Javascript object>"
      ]
     },
     "metadata": {},
     "output_type": "display_data"
    },
    {
     "data": {
      "application/javascript": [
       "IPython.notebook.execute_cell_range(IPython.notebook.get_selected_index()+1, IPython.notebook.ncells())"
      ],
      "text/plain": [
       "<IPython.core.display.Javascript object>"
      ]
     },
     "metadata": {},
     "output_type": "display_data"
    },
    {
     "data": {
      "application/javascript": [
       "IPython.notebook.execute_cell_range(IPython.notebook.get_selected_index()+1, IPython.notebook.ncells())"
      ],
      "text/plain": [
       "<IPython.core.display.Javascript object>"
      ]
     },
     "metadata": {},
     "output_type": "display_data"
    },
    {
     "data": {
      "application/javascript": [
       "IPython.notebook.execute_cell_range(IPython.notebook.get_selected_index()+1, IPython.notebook.ncells())"
      ],
      "text/plain": [
       "<IPython.core.display.Javascript object>"
      ]
     },
     "metadata": {},
     "output_type": "display_data"
    },
    {
     "data": {
      "application/javascript": [
       "IPython.notebook.execute_cell_range(IPython.notebook.get_selected_index()+1, IPython.notebook.ncells())"
      ],
      "text/plain": [
       "<IPython.core.display.Javascript object>"
      ]
     },
     "metadata": {},
     "output_type": "display_data"
    },
    {
     "data": {
      "application/javascript": [
       "IPython.notebook.execute_cell_range(IPython.notebook.get_selected_index()+1, IPython.notebook.ncells())"
      ],
      "text/plain": [
       "<IPython.core.display.Javascript object>"
      ]
     },
     "metadata": {},
     "output_type": "display_data"
    },
    {
     "data": {
      "application/javascript": [
       "IPython.notebook.execute_cell_range(IPython.notebook.get_selected_index()+1, IPython.notebook.ncells())"
      ],
      "text/plain": [
       "<IPython.core.display.Javascript object>"
      ]
     },
     "metadata": {},
     "output_type": "display_data"
    },
    {
     "data": {
      "application/javascript": [
       "IPython.notebook.execute_cell_range(IPython.notebook.get_selected_index()+1, IPython.notebook.ncells())"
      ],
      "text/plain": [
       "<IPython.core.display.Javascript object>"
      ]
     },
     "metadata": {},
     "output_type": "display_data"
    },
    {
     "data": {
      "application/javascript": [
       "IPython.notebook.execute_cell_range(IPython.notebook.get_selected_index()+1, IPython.notebook.ncells())"
      ],
      "text/plain": [
       "<IPython.core.display.Javascript object>"
      ]
     },
     "metadata": {},
     "output_type": "display_data"
    },
    {
     "data": {
      "application/javascript": [
       "IPython.notebook.execute_cell_range(IPython.notebook.get_selected_index()+1, IPython.notebook.ncells())"
      ],
      "text/plain": [
       "<IPython.core.display.Javascript object>"
      ]
     },
     "metadata": {},
     "output_type": "display_data"
    },
    {
     "data": {
      "application/javascript": [
       "IPython.notebook.execute_cell_range(IPython.notebook.get_selected_index()+1, IPython.notebook.ncells())"
      ],
      "text/plain": [
       "<IPython.core.display.Javascript object>"
      ]
     },
     "metadata": {},
     "output_type": "display_data"
    },
    {
     "data": {
      "application/javascript": [
       "IPython.notebook.execute_cell_range(IPython.notebook.get_selected_index()+1, IPython.notebook.ncells())"
      ],
      "text/plain": [
       "<IPython.core.display.Javascript object>"
      ]
     },
     "metadata": {},
     "output_type": "display_data"
    },
    {
     "data": {
      "application/javascript": [
       "IPython.notebook.execute_cell_range(IPython.notebook.get_selected_index()+1, IPython.notebook.ncells())"
      ],
      "text/plain": [
       "<IPython.core.display.Javascript object>"
      ]
     },
     "metadata": {},
     "output_type": "display_data"
    },
    {
     "data": {
      "application/javascript": [
       "IPython.notebook.execute_cell_range(IPython.notebook.get_selected_index()+1, IPython.notebook.ncells())"
      ],
      "text/plain": [
       "<IPython.core.display.Javascript object>"
      ]
     },
     "metadata": {},
     "output_type": "display_data"
    },
    {
     "data": {
      "application/javascript": [
       "IPython.notebook.execute_cell_range(IPython.notebook.get_selected_index()+1, IPython.notebook.ncells())"
      ],
      "text/plain": [
       "<IPython.core.display.Javascript object>"
      ]
     },
     "metadata": {},
     "output_type": "display_data"
    },
    {
     "data": {
      "application/javascript": [
       "IPython.notebook.execute_cell_range(IPython.notebook.get_selected_index()+1, IPython.notebook.ncells())"
      ],
      "text/plain": [
       "<IPython.core.display.Javascript object>"
      ]
     },
     "metadata": {},
     "output_type": "display_data"
    },
    {
     "data": {
      "application/javascript": [
       "IPython.notebook.execute_cell_range(IPython.notebook.get_selected_index()+1, IPython.notebook.ncells())"
      ],
      "text/plain": [
       "<IPython.core.display.Javascript object>"
      ]
     },
     "metadata": {},
     "output_type": "display_data"
    },
    {
     "data": {
      "application/javascript": [
       "IPython.notebook.execute_cell_range(IPython.notebook.get_selected_index()+1, IPython.notebook.ncells())"
      ],
      "text/plain": [
       "<IPython.core.display.Javascript object>"
      ]
     },
     "metadata": {},
     "output_type": "display_data"
    },
    {
     "data": {
      "application/javascript": [
       "IPython.notebook.execute_cell_range(IPython.notebook.get_selected_index()+1, IPython.notebook.ncells())"
      ],
      "text/plain": [
       "<IPython.core.display.Javascript object>"
      ]
     },
     "metadata": {},
     "output_type": "display_data"
    },
    {
     "data": {
      "application/javascript": [
       "IPython.notebook.execute_cell_range(IPython.notebook.get_selected_index()+1, IPython.notebook.ncells())"
      ],
      "text/plain": [
       "<IPython.core.display.Javascript object>"
      ]
     },
     "metadata": {},
     "output_type": "display_data"
    },
    {
     "data": {
      "application/javascript": [
       "IPython.notebook.execute_cell_range(IPython.notebook.get_selected_index()+1, IPython.notebook.ncells())"
      ],
      "text/plain": [
       "<IPython.core.display.Javascript object>"
      ]
     },
     "metadata": {},
     "output_type": "display_data"
    },
    {
     "data": {
      "application/javascript": [
       "IPython.notebook.execute_cell_range(IPython.notebook.get_selected_index()+1, IPython.notebook.ncells())"
      ],
      "text/plain": [
       "<IPython.core.display.Javascript object>"
      ]
     },
     "metadata": {},
     "output_type": "display_data"
    },
    {
     "data": {
      "application/javascript": [
       "IPython.notebook.execute_cell_range(IPython.notebook.get_selected_index()+1, IPython.notebook.ncells())"
      ],
      "text/plain": [
       "<IPython.core.display.Javascript object>"
      ]
     },
     "metadata": {},
     "output_type": "display_data"
    },
    {
     "data": {
      "application/javascript": [
       "IPython.notebook.execute_cell_range(IPython.notebook.get_selected_index()+1, IPython.notebook.ncells())"
      ],
      "text/plain": [
       "<IPython.core.display.Javascript object>"
      ]
     },
     "metadata": {},
     "output_type": "display_data"
    },
    {
     "data": {
      "application/javascript": [
       "IPython.notebook.execute_cell_range(IPython.notebook.get_selected_index()+1, IPython.notebook.ncells())"
      ],
      "text/plain": [
       "<IPython.core.display.Javascript object>"
      ]
     },
     "metadata": {},
     "output_type": "display_data"
    },
    {
     "data": {
      "application/javascript": [
       "IPython.notebook.execute_cell_range(IPython.notebook.get_selected_index()+1, IPython.notebook.ncells())"
      ],
      "text/plain": [
       "<IPython.core.display.Javascript object>"
      ]
     },
     "metadata": {},
     "output_type": "display_data"
    },
    {
     "data": {
      "application/javascript": [
       "IPython.notebook.execute_cell_range(IPython.notebook.get_selected_index()+1, IPython.notebook.ncells())"
      ],
      "text/plain": [
       "<IPython.core.display.Javascript object>"
      ]
     },
     "metadata": {},
     "output_type": "display_data"
    },
    {
     "data": {
      "application/javascript": [
       "IPython.notebook.execute_cell_range(IPython.notebook.get_selected_index()+1, IPython.notebook.ncells())"
      ],
      "text/plain": [
       "<IPython.core.display.Javascript object>"
      ]
     },
     "metadata": {},
     "output_type": "display_data"
    },
    {
     "data": {
      "application/javascript": [
       "IPython.notebook.execute_cell_range(IPython.notebook.get_selected_index()+1, IPython.notebook.ncells())"
      ],
      "text/plain": [
       "<IPython.core.display.Javascript object>"
      ]
     },
     "metadata": {},
     "output_type": "display_data"
    },
    {
     "data": {
      "application/javascript": [
       "IPython.notebook.execute_cell_range(IPython.notebook.get_selected_index()+1, IPython.notebook.ncells())"
      ],
      "text/plain": [
       "<IPython.core.display.Javascript object>"
      ]
     },
     "metadata": {},
     "output_type": "display_data"
    },
    {
     "data": {
      "application/javascript": [
       "IPython.notebook.execute_cell_range(IPython.notebook.get_selected_index()+1, IPython.notebook.ncells())"
      ],
      "text/plain": [
       "<IPython.core.display.Javascript object>"
      ]
     },
     "metadata": {},
     "output_type": "display_data"
    },
    {
     "data": {
      "application/javascript": [
       "IPython.notebook.execute_cell_range(IPython.notebook.get_selected_index()+1, IPython.notebook.ncells())"
      ],
      "text/plain": [
       "<IPython.core.display.Javascript object>"
      ]
     },
     "metadata": {},
     "output_type": "display_data"
    },
    {
     "data": {
      "application/javascript": [
       "IPython.notebook.execute_cell_range(IPython.notebook.get_selected_index()+1, IPython.notebook.ncells())"
      ],
      "text/plain": [
       "<IPython.core.display.Javascript object>"
      ]
     },
     "metadata": {},
     "output_type": "display_data"
    },
    {
     "data": {
      "application/javascript": [
       "IPython.notebook.execute_cell_range(IPython.notebook.get_selected_index()+1, IPython.notebook.ncells())"
      ],
      "text/plain": [
       "<IPython.core.display.Javascript object>"
      ]
     },
     "metadata": {},
     "output_type": "display_data"
    },
    {
     "data": {
      "application/javascript": [
       "IPython.notebook.execute_cell_range(IPython.notebook.get_selected_index()+1, IPython.notebook.ncells())"
      ],
      "text/plain": [
       "<IPython.core.display.Javascript object>"
      ]
     },
     "metadata": {},
     "output_type": "display_data"
    },
    {
     "data": {
      "application/javascript": [
       "IPython.notebook.execute_cell_range(IPython.notebook.get_selected_index()+1, IPython.notebook.ncells())"
      ],
      "text/plain": [
       "<IPython.core.display.Javascript object>"
      ]
     },
     "metadata": {},
     "output_type": "display_data"
    },
    {
     "data": {
      "application/javascript": [
       "IPython.notebook.execute_cell_range(IPython.notebook.get_selected_index()+1, IPython.notebook.ncells())"
      ],
      "text/plain": [
       "<IPython.core.display.Javascript object>"
      ]
     },
     "metadata": {},
     "output_type": "display_data"
    },
    {
     "data": {
      "application/javascript": [
       "IPython.notebook.execute_cell_range(IPython.notebook.get_selected_index()+1, IPython.notebook.ncells())"
      ],
      "text/plain": [
       "<IPython.core.display.Javascript object>"
      ]
     },
     "metadata": {},
     "output_type": "display_data"
    },
    {
     "data": {
      "application/javascript": [
       "IPython.notebook.execute_cell_range(IPython.notebook.get_selected_index()+1, IPython.notebook.ncells())"
      ],
      "text/plain": [
       "<IPython.core.display.Javascript object>"
      ]
     },
     "metadata": {},
     "output_type": "display_data"
    },
    {
     "data": {
      "application/javascript": [
       "IPython.notebook.execute_cell_range(IPython.notebook.get_selected_index()+1, IPython.notebook.ncells())"
      ],
      "text/plain": [
       "<IPython.core.display.Javascript object>"
      ]
     },
     "metadata": {},
     "output_type": "display_data"
    },
    {
     "data": {
      "application/javascript": [
       "IPython.notebook.execute_cell_range(IPython.notebook.get_selected_index()+1, IPython.notebook.ncells())"
      ],
      "text/plain": [
       "<IPython.core.display.Javascript object>"
      ]
     },
     "metadata": {},
     "output_type": "display_data"
    },
    {
     "data": {
      "application/javascript": [
       "IPython.notebook.execute_cell_range(IPython.notebook.get_selected_index()+1, IPython.notebook.ncells())"
      ],
      "text/plain": [
       "<IPython.core.display.Javascript object>"
      ]
     },
     "metadata": {},
     "output_type": "display_data"
    },
    {
     "data": {
      "application/javascript": [
       "IPython.notebook.execute_cell_range(IPython.notebook.get_selected_index()+1, IPython.notebook.ncells())"
      ],
      "text/plain": [
       "<IPython.core.display.Javascript object>"
      ]
     },
     "metadata": {},
     "output_type": "display_data"
    },
    {
     "data": {
      "application/javascript": [
       "IPython.notebook.execute_cell_range(IPython.notebook.get_selected_index()+1, IPython.notebook.ncells())"
      ],
      "text/plain": [
       "<IPython.core.display.Javascript object>"
      ]
     },
     "metadata": {},
     "output_type": "display_data"
    },
    {
     "data": {
      "application/javascript": [
       "IPython.notebook.execute_cell_range(IPython.notebook.get_selected_index()+1, IPython.notebook.ncells())"
      ],
      "text/plain": [
       "<IPython.core.display.Javascript object>"
      ]
     },
     "metadata": {},
     "output_type": "display_data"
    },
    {
     "data": {
      "application/javascript": [
       "IPython.notebook.execute_cell_range(IPython.notebook.get_selected_index()+1, IPython.notebook.ncells())"
      ],
      "text/plain": [
       "<IPython.core.display.Javascript object>"
      ]
     },
     "metadata": {},
     "output_type": "display_data"
    },
    {
     "data": {
      "application/javascript": [
       "IPython.notebook.execute_cell_range(IPython.notebook.get_selected_index()+1, IPython.notebook.ncells())"
      ],
      "text/plain": [
       "<IPython.core.display.Javascript object>"
      ]
     },
     "metadata": {},
     "output_type": "display_data"
    },
    {
     "data": {
      "application/javascript": [
       "IPython.notebook.execute_cell_range(IPython.notebook.get_selected_index()+1, IPython.notebook.ncells())"
      ],
      "text/plain": [
       "<IPython.core.display.Javascript object>"
      ]
     },
     "metadata": {},
     "output_type": "display_data"
    },
    {
     "data": {
      "application/javascript": [
       "IPython.notebook.execute_cell_range(IPython.notebook.get_selected_index()+1, IPython.notebook.ncells())"
      ],
      "text/plain": [
       "<IPython.core.display.Javascript object>"
      ]
     },
     "metadata": {},
     "output_type": "display_data"
    },
    {
     "data": {
      "application/javascript": [
       "IPython.notebook.execute_cell_range(IPython.notebook.get_selected_index()+1, IPython.notebook.ncells())"
      ],
      "text/plain": [
       "<IPython.core.display.Javascript object>"
      ]
     },
     "metadata": {},
     "output_type": "display_data"
    },
    {
     "data": {
      "application/javascript": [
       "IPython.notebook.execute_cell_range(IPython.notebook.get_selected_index()+1, IPython.notebook.ncells())"
      ],
      "text/plain": [
       "<IPython.core.display.Javascript object>"
      ]
     },
     "metadata": {},
     "output_type": "display_data"
    },
    {
     "data": {
      "application/javascript": [
       "IPython.notebook.execute_cell_range(IPython.notebook.get_selected_index()+1, IPython.notebook.ncells())"
      ],
      "text/plain": [
       "<IPython.core.display.Javascript object>"
      ]
     },
     "metadata": {},
     "output_type": "display_data"
    },
    {
     "data": {
      "application/javascript": [
       "IPython.notebook.execute_cell_range(IPython.notebook.get_selected_index()+1, IPython.notebook.ncells())"
      ],
      "text/plain": [
       "<IPython.core.display.Javascript object>"
      ]
     },
     "metadata": {},
     "output_type": "display_data"
    },
    {
     "data": {
      "application/javascript": [
       "IPython.notebook.execute_cell_range(IPython.notebook.get_selected_index()+1, IPython.notebook.ncells())"
      ],
      "text/plain": [
       "<IPython.core.display.Javascript object>"
      ]
     },
     "metadata": {},
     "output_type": "display_data"
    },
    {
     "data": {
      "application/javascript": [
       "IPython.notebook.execute_cell_range(IPython.notebook.get_selected_index()+1, IPython.notebook.ncells())"
      ],
      "text/plain": [
       "<IPython.core.display.Javascript object>"
      ]
     },
     "metadata": {},
     "output_type": "display_data"
    },
    {
     "data": {
      "application/javascript": [
       "IPython.notebook.execute_cell_range(IPython.notebook.get_selected_index()+1, IPython.notebook.ncells())"
      ],
      "text/plain": [
       "<IPython.core.display.Javascript object>"
      ]
     },
     "metadata": {},
     "output_type": "display_data"
    },
    {
     "data": {
      "application/javascript": [
       "IPython.notebook.execute_cell_range(IPython.notebook.get_selected_index()+1, IPython.notebook.ncells())"
      ],
      "text/plain": [
       "<IPython.core.display.Javascript object>"
      ]
     },
     "metadata": {},
     "output_type": "display_data"
    },
    {
     "data": {
      "application/javascript": [
       "IPython.notebook.execute_cell_range(IPython.notebook.get_selected_index()+1, IPython.notebook.ncells())"
      ],
      "text/plain": [
       "<IPython.core.display.Javascript object>"
      ]
     },
     "metadata": {},
     "output_type": "display_data"
    },
    {
     "data": {
      "application/javascript": [
       "IPython.notebook.execute_cell_range(IPython.notebook.get_selected_index()+1, IPython.notebook.ncells())"
      ],
      "text/plain": [
       "<IPython.core.display.Javascript object>"
      ]
     },
     "metadata": {},
     "output_type": "display_data"
    },
    {
     "data": {
      "application/javascript": [
       "IPython.notebook.execute_cell_range(IPython.notebook.get_selected_index()+1, IPython.notebook.ncells())"
      ],
      "text/plain": [
       "<IPython.core.display.Javascript object>"
      ]
     },
     "metadata": {},
     "output_type": "display_data"
    },
    {
     "data": {
      "application/javascript": [
       "IPython.notebook.execute_cell_range(IPython.notebook.get_selected_index()+1, IPython.notebook.ncells())"
      ],
      "text/plain": [
       "<IPython.core.display.Javascript object>"
      ]
     },
     "metadata": {},
     "output_type": "display_data"
    },
    {
     "data": {
      "application/javascript": [
       "IPython.notebook.execute_cell_range(IPython.notebook.get_selected_index()+1, IPython.notebook.ncells())"
      ],
      "text/plain": [
       "<IPython.core.display.Javascript object>"
      ]
     },
     "metadata": {},
     "output_type": "display_data"
    },
    {
     "data": {
      "application/javascript": [
       "IPython.notebook.execute_cell_range(IPython.notebook.get_selected_index()+1, IPython.notebook.ncells())"
      ],
      "text/plain": [
       "<IPython.core.display.Javascript object>"
      ]
     },
     "metadata": {},
     "output_type": "display_data"
    },
    {
     "data": {
      "application/javascript": [
       "IPython.notebook.execute_cell_range(IPython.notebook.get_selected_index()+1, IPython.notebook.ncells())"
      ],
      "text/plain": [
       "<IPython.core.display.Javascript object>"
      ]
     },
     "metadata": {},
     "output_type": "display_data"
    },
    {
     "data": {
      "application/javascript": [
       "IPython.notebook.execute_cell_range(IPython.notebook.get_selected_index()+1, IPython.notebook.ncells())"
      ],
      "text/plain": [
       "<IPython.core.display.Javascript object>"
      ]
     },
     "metadata": {},
     "output_type": "display_data"
    },
    {
     "data": {
      "application/javascript": [
       "IPython.notebook.execute_cell_range(IPython.notebook.get_selected_index()+1, IPython.notebook.ncells())"
      ],
      "text/plain": [
       "<IPython.core.display.Javascript object>"
      ]
     },
     "metadata": {},
     "output_type": "display_data"
    },
    {
     "data": {
      "application/javascript": [
       "IPython.notebook.execute_cell_range(IPython.notebook.get_selected_index()+1, IPython.notebook.ncells())"
      ],
      "text/plain": [
       "<IPython.core.display.Javascript object>"
      ]
     },
     "metadata": {},
     "output_type": "display_data"
    },
    {
     "data": {
      "application/javascript": [
       "IPython.notebook.execute_cell_range(IPython.notebook.get_selected_index()+1, IPython.notebook.ncells())"
      ],
      "text/plain": [
       "<IPython.core.display.Javascript object>"
      ]
     },
     "metadata": {},
     "output_type": "display_data"
    },
    {
     "data": {
      "application/javascript": [
       "IPython.notebook.execute_cell_range(IPython.notebook.get_selected_index()+1, IPython.notebook.ncells())"
      ],
      "text/plain": [
       "<IPython.core.display.Javascript object>"
      ]
     },
     "metadata": {},
     "output_type": "display_data"
    },
    {
     "data": {
      "application/javascript": [
       "IPython.notebook.execute_cell_range(IPython.notebook.get_selected_index()+1, IPython.notebook.ncells())"
      ],
      "text/plain": [
       "<IPython.core.display.Javascript object>"
      ]
     },
     "metadata": {},
     "output_type": "display_data"
    },
    {
     "data": {
      "application/javascript": [
       "IPython.notebook.execute_cell_range(IPython.notebook.get_selected_index()+1, IPython.notebook.ncells())"
      ],
      "text/plain": [
       "<IPython.core.display.Javascript object>"
      ]
     },
     "metadata": {},
     "output_type": "display_data"
    },
    {
     "data": {
      "application/javascript": [
       "IPython.notebook.execute_cell_range(IPython.notebook.get_selected_index()+1, IPython.notebook.ncells())"
      ],
      "text/plain": [
       "<IPython.core.display.Javascript object>"
      ]
     },
     "metadata": {},
     "output_type": "display_data"
    },
    {
     "data": {
      "application/javascript": [
       "IPython.notebook.execute_cell_range(IPython.notebook.get_selected_index()+1, IPython.notebook.ncells())"
      ],
      "text/plain": [
       "<IPython.core.display.Javascript object>"
      ]
     },
     "metadata": {},
     "output_type": "display_data"
    },
    {
     "data": {
      "application/javascript": [
       "IPython.notebook.execute_cell_range(IPython.notebook.get_selected_index()+1, IPython.notebook.ncells())"
      ],
      "text/plain": [
       "<IPython.core.display.Javascript object>"
      ]
     },
     "metadata": {},
     "output_type": "display_data"
    },
    {
     "data": {
      "application/javascript": [
       "IPython.notebook.execute_cell_range(IPython.notebook.get_selected_index()+1, IPython.notebook.ncells())"
      ],
      "text/plain": [
       "<IPython.core.display.Javascript object>"
      ]
     },
     "metadata": {},
     "output_type": "display_data"
    },
    {
     "data": {
      "application/javascript": [
       "IPython.notebook.execute_cell_range(IPython.notebook.get_selected_index()+1, IPython.notebook.ncells())"
      ],
      "text/plain": [
       "<IPython.core.display.Javascript object>"
      ]
     },
     "metadata": {},
     "output_type": "display_data"
    },
    {
     "data": {
      "application/javascript": [
       "IPython.notebook.execute_cell_range(IPython.notebook.get_selected_index()+1, IPython.notebook.ncells())"
      ],
      "text/plain": [
       "<IPython.core.display.Javascript object>"
      ]
     },
     "metadata": {},
     "output_type": "display_data"
    },
    {
     "data": {
      "application/javascript": [
       "IPython.notebook.execute_cell_range(IPython.notebook.get_selected_index()+1, IPython.notebook.ncells())"
      ],
      "text/plain": [
       "<IPython.core.display.Javascript object>"
      ]
     },
     "metadata": {},
     "output_type": "display_data"
    },
    {
     "data": {
      "application/javascript": [
       "IPython.notebook.execute_cell_range(IPython.notebook.get_selected_index()+1, IPython.notebook.ncells())"
      ],
      "text/plain": [
       "<IPython.core.display.Javascript object>"
      ]
     },
     "metadata": {},
     "output_type": "display_data"
    },
    {
     "data": {
      "application/javascript": [
       "IPython.notebook.execute_cell_range(IPython.notebook.get_selected_index()+1, IPython.notebook.ncells())"
      ],
      "text/plain": [
       "<IPython.core.display.Javascript object>"
      ]
     },
     "metadata": {},
     "output_type": "display_data"
    },
    {
     "data": {
      "application/javascript": [
       "IPython.notebook.execute_cell_range(IPython.notebook.get_selected_index()+1, IPython.notebook.ncells())"
      ],
      "text/plain": [
       "<IPython.core.display.Javascript object>"
      ]
     },
     "metadata": {},
     "output_type": "display_data"
    },
    {
     "data": {
      "application/javascript": [
       "IPython.notebook.execute_cell_range(IPython.notebook.get_selected_index()+1, IPython.notebook.ncells())"
      ],
      "text/plain": [
       "<IPython.core.display.Javascript object>"
      ]
     },
     "metadata": {},
     "output_type": "display_data"
    },
    {
     "data": {
      "application/javascript": [
       "IPython.notebook.execute_cell_range(IPython.notebook.get_selected_index()+1, IPython.notebook.ncells())"
      ],
      "text/plain": [
       "<IPython.core.display.Javascript object>"
      ]
     },
     "metadata": {},
     "output_type": "display_data"
    },
    {
     "data": {
      "application/javascript": [
       "IPython.notebook.execute_cell_range(IPython.notebook.get_selected_index()+1, IPython.notebook.ncells())"
      ],
      "text/plain": [
       "<IPython.core.display.Javascript object>"
      ]
     },
     "metadata": {},
     "output_type": "display_data"
    },
    {
     "data": {
      "application/javascript": [
       "IPython.notebook.execute_cell_range(IPython.notebook.get_selected_index()+1, IPython.notebook.ncells())"
      ],
      "text/plain": [
       "<IPython.core.display.Javascript object>"
      ]
     },
     "metadata": {},
     "output_type": "display_data"
    },
    {
     "data": {
      "application/javascript": [
       "IPython.notebook.execute_cell_range(IPython.notebook.get_selected_index()+1, IPython.notebook.ncells())"
      ],
      "text/plain": [
       "<IPython.core.display.Javascript object>"
      ]
     },
     "metadata": {},
     "output_type": "display_data"
    },
    {
     "data": {
      "application/javascript": [
       "IPython.notebook.execute_cell_range(IPython.notebook.get_selected_index()+1, IPython.notebook.ncells())"
      ],
      "text/plain": [
       "<IPython.core.display.Javascript object>"
      ]
     },
     "metadata": {},
     "output_type": "display_data"
    },
    {
     "data": {
      "application/javascript": [
       "IPython.notebook.execute_cell_range(IPython.notebook.get_selected_index()+1, IPython.notebook.ncells())"
      ],
      "text/plain": [
       "<IPython.core.display.Javascript object>"
      ]
     },
     "metadata": {},
     "output_type": "display_data"
    },
    {
     "data": {
      "application/javascript": [
       "IPython.notebook.execute_cell_range(IPython.notebook.get_selected_index()+1, IPython.notebook.ncells())"
      ],
      "text/plain": [
       "<IPython.core.display.Javascript object>"
      ]
     },
     "metadata": {},
     "output_type": "display_data"
    },
    {
     "data": {
      "application/javascript": [
       "IPython.notebook.execute_cell_range(IPython.notebook.get_selected_index()+1, IPython.notebook.ncells())"
      ],
      "text/plain": [
       "<IPython.core.display.Javascript object>"
      ]
     },
     "metadata": {},
     "output_type": "display_data"
    },
    {
     "data": {
      "application/javascript": [
       "IPython.notebook.execute_cell_range(IPython.notebook.get_selected_index()+1, IPython.notebook.ncells())"
      ],
      "text/plain": [
       "<IPython.core.display.Javascript object>"
      ]
     },
     "metadata": {},
     "output_type": "display_data"
    },
    {
     "data": {
      "application/javascript": [
       "IPython.notebook.execute_cell_range(IPython.notebook.get_selected_index()+1, IPython.notebook.ncells())"
      ],
      "text/plain": [
       "<IPython.core.display.Javascript object>"
      ]
     },
     "metadata": {},
     "output_type": "display_data"
    },
    {
     "data": {
      "application/javascript": [
       "IPython.notebook.execute_cell_range(IPython.notebook.get_selected_index()+1, IPython.notebook.ncells())"
      ],
      "text/plain": [
       "<IPython.core.display.Javascript object>"
      ]
     },
     "metadata": {},
     "output_type": "display_data"
    },
    {
     "data": {
      "application/javascript": [
       "IPython.notebook.execute_cell_range(IPython.notebook.get_selected_index()+1, IPython.notebook.ncells())"
      ],
      "text/plain": [
       "<IPython.core.display.Javascript object>"
      ]
     },
     "metadata": {},
     "output_type": "display_data"
    },
    {
     "data": {
      "application/javascript": [
       "IPython.notebook.execute_cell_range(IPython.notebook.get_selected_index()+1, IPython.notebook.ncells())"
      ],
      "text/plain": [
       "<IPython.core.display.Javascript object>"
      ]
     },
     "metadata": {},
     "output_type": "display_data"
    },
    {
     "data": {
      "application/javascript": [
       "IPython.notebook.execute_cell_range(IPython.notebook.get_selected_index()+1, IPython.notebook.ncells())"
      ],
      "text/plain": [
       "<IPython.core.display.Javascript object>"
      ]
     },
     "metadata": {},
     "output_type": "display_data"
    },
    {
     "data": {
      "application/javascript": [
       "IPython.notebook.execute_cell_range(IPython.notebook.get_selected_index()+1, IPython.notebook.ncells())"
      ],
      "text/plain": [
       "<IPython.core.display.Javascript object>"
      ]
     },
     "metadata": {},
     "output_type": "display_data"
    },
    {
     "data": {
      "application/javascript": [
       "IPython.notebook.execute_cell_range(IPython.notebook.get_selected_index()+1, IPython.notebook.ncells())"
      ],
      "text/plain": [
       "<IPython.core.display.Javascript object>"
      ]
     },
     "metadata": {},
     "output_type": "display_data"
    },
    {
     "data": {
      "application/javascript": [
       "IPython.notebook.execute_cell_range(IPython.notebook.get_selected_index()+1, IPython.notebook.ncells())"
      ],
      "text/plain": [
       "<IPython.core.display.Javascript object>"
      ]
     },
     "metadata": {},
     "output_type": "display_data"
    },
    {
     "data": {
      "application/javascript": [
       "IPython.notebook.execute_cell_range(IPython.notebook.get_selected_index()+1, IPython.notebook.ncells())"
      ],
      "text/plain": [
       "<IPython.core.display.Javascript object>"
      ]
     },
     "metadata": {},
     "output_type": "display_data"
    },
    {
     "data": {
      "application/javascript": [
       "IPython.notebook.execute_cell_range(IPython.notebook.get_selected_index()+1, IPython.notebook.ncells())"
      ],
      "text/plain": [
       "<IPython.core.display.Javascript object>"
      ]
     },
     "metadata": {},
     "output_type": "display_data"
    },
    {
     "data": {
      "application/javascript": [
       "IPython.notebook.execute_cell_range(IPython.notebook.get_selected_index()+1, IPython.notebook.ncells())"
      ],
      "text/plain": [
       "<IPython.core.display.Javascript object>"
      ]
     },
     "metadata": {},
     "output_type": "display_data"
    },
    {
     "data": {
      "application/javascript": [
       "IPython.notebook.execute_cell_range(IPython.notebook.get_selected_index()+1, IPython.notebook.ncells())"
      ],
      "text/plain": [
       "<IPython.core.display.Javascript object>"
      ]
     },
     "metadata": {},
     "output_type": "display_data"
    }
   ],
   "source": [
    "clear_output(wait=True)\n",
    "model.menu.show()"
   ]
  },
  {
   "cell_type": "code",
   "execution_count": 114,
   "metadata": {
    "extensions": {
     "jupyter_dashboards": {
      "version": 1,
      "views": {
       "grid_default": {
        "hidden": true
       },
       "report_default": {
        "hidden": true
       }
      }
     }
    }
   },
   "outputs": [],
   "source": [
    "from IPython.display import Javascript\n",
    "from ipywidgets import widgets\n",
    "\n",
    "def run_all(ev):\n",
    "    display(Javascript('IPython.notebook.execute_cell_range(IPython.notebook.get_selected_index()+1, IPython.notebook.ncells())'))\n",
    "model.menu.draw_button.on_click(run_all)"
   ]
  },
  {
   "cell_type": "code",
   "execution_count": 115,
   "metadata": {
    "extensions": {
     "jupyter_dashboards": {
      "version": 1,
      "views": {
       "grid_default": {
        "hidden": true
       },
       "report_default": {
        "hidden": true
       }
      }
     }
    }
   },
   "outputs": [],
   "source": [
    "### ALL CODE BELOW WILL BE EXECUTED BY 'LOAD' BUTTON ###"
   ]
  },
  {
   "cell_type": "code",
   "execution_count": 116,
   "metadata": {
    "extensions": {
     "jupyter_dashboards": {
      "version": 1,
      "views": {
       "grid_default": {
        "col": 0,
        "height": 16,
        "hidden": false,
        "row": 5,
        "width": 6
       },
       "report_default": {
        "hidden": false
       }
      }
     }
    }
   },
   "outputs": [
    {
     "data": {
      "text/html": [
       "<!doctype html><html><head>  <title>Network | Basic usage</title></head><body><script type=\"text/javascript\">function setUpFrame() {     var frame = window.frames[\"style_file0\"];    frame.runVis([{\"id\": \"CP_0\", \"node_label\": \"CP_0\", \"x\": 802.8022364177666, \"y\": 489.0831534485373, \"node_size\": 14.769292400000003, \"color\": \"#1818ff\", \"node_shape\": \"dot\", \"border_width\": 0, \"title\": \"CP_0\", \"degree\": 3.0}, {\"id\": \"CP_1\", \"node_label\": \"CP_1\", \"x\": 1000.0, \"y\": -97.2262833652169, \"node_size\": 10.198978799999999, \"color\": \"#1010ff\", \"node_shape\": \"dot\", \"border_width\": 0, \"title\": \"CP_1\", \"degree\": 3.0}, {\"id\": \"CP_2\", \"node_label\": \"CP_2\", \"x\": -392.85077561025804, \"y\": -758.3396466346578, \"node_size\": 27.765238400000005, \"color\": \"#2e2eff\", \"node_shape\": \"dot\", \"border_width\": 0, \"title\": \"CP_2\", \"degree\": 3.0}, {\"id\": \"CP_3\", \"node_label\": \"CP_3\", \"x\": -558.9921999034264, \"y\": -505.4011135205736, \"node_size\": 40.0254882, \"color\": \"#4242ff\", \"node_shape\": \"dot\", \"border_width\": 0, \"title\": \"CP_3\", \"degree\": 3.0}, {\"id\": \"CP_4\", \"node_label\": \"CP_4\", \"x\": 144.39617966561755, \"y\": 130.91278454165428, \"node_size\": 12.726379699999999, \"color\": \"#1414ff\", \"node_shape\": \"dot\", \"border_width\": 0, \"title\": \"CP_4\", \"degree\": 3.0}, {\"id\": \"CP_5\", \"node_label\": \"CP_5\", \"x\": -106.4469636218121, \"y\": -265.72542323313877, \"node_size\": 40.2609489, \"color\": \"#4444ff\", \"node_shape\": \"dot\", \"border_width\": 0, \"title\": \"CP_5\", \"degree\": 3.0}, {\"id\": \"CP_6\", \"node_label\": \"CP_6\", \"x\": 165.52431216026227, \"y\": -371.8998691815836, \"node_size\": 23.190081100000004, \"color\": \"#2626ff\", \"node_shape\": \"dot\", \"border_width\": 0, \"title\": \"CP_6\", \"degree\": 3.0}, {\"id\": \"CP_7\", \"node_label\": \"CP_7\", \"x\": 125.60833188296195, \"y\": 952.7256370533275, \"node_size\": 21.114263599999997, \"color\": \"#2222ff\", \"node_shape\": \"dot\", \"border_width\": 0, \"title\": \"CP_7\", \"degree\": 3.0}, {\"id\": \"CP_8\", \"node_label\": \"CP_8\", \"x\": -646.7821059325855, \"y\": 709.9809395875172, \"node_size\": 9.8886537, \"color\": \"#1010ff\", \"node_shape\": \"dot\", \"border_width\": 0, \"title\": \"CP_8\", \"degree\": 3.0}, {\"id\": \"CP_9\", \"node_label\": \"CP_9\", \"x\": 541.4506365478207, \"y\": -177.36069015290747, \"node_size\": 18.177519900000004, \"color\": \"#1e1eff\", \"node_shape\": \"dot\", \"border_width\": 0, \"title\": \"CP_9\", \"degree\": 3.0}, {\"id\": \"CP_10\", \"node_label\": \"CP_10\", \"x\": -438.5833734399752, \"y\": 267.0424298272029, \"node_size\": 11.5568676, \"color\": \"#1212ff\", \"node_shape\": \"dot\", \"border_width\": 0, \"title\": \"CP_10\", \"degree\": 3.0}, {\"id\": \"CP_11\", \"node_label\": \"CP_11\", \"x\": -832.4617822107034, \"y\": -71.18085648124338, \"node_size\": 9.8414352, \"color\": \"#1010ff\", \"node_shape\": \"dot\", \"border_width\": 0, \"title\": \"CP_11\", \"degree\": 3.0}, {\"id\": \"CP_12\", \"node_label\": \"CP_12\", \"x\": 2.404771077810474, \"y\": 476.39773410977784, \"node_size\": 16.2033449, \"color\": \"#1a1aff\", \"node_shape\": \"dot\", \"border_width\": 0, \"title\": \"CP_12\", \"degree\": 3.0}, {\"id\": \"CP_13\", \"node_label\": \"CP_13\", \"x\": 193.93073296652145, \"y\": -779.0087959986981, \"node_size\": 45.814076400000005, \"color\": \"#4c4cff\", \"node_shape\": \"dot\", \"border_width\": 0, \"title\": \"CP_13\", \"degree\": 3.0}], [{\"source\": 0, \"target\": 1, \"edge_width\": 1.7461433401095452}, {\"source\": 0, \"target\": 9, \"edge_width\": 1.6764922148709824}, {\"source\": 0, \"target\": 7, \"edge_width\": 1.6764922148709824}, {\"source\": 1, \"target\": 0, \"edge_width\": 1.7571318868079058}, {\"source\": 1, \"target\": 6, \"edge_width\": 1.670473770022072}, {\"source\": 2, \"target\": 3, \"edge_width\": 1.7332868200782765}, {\"source\": 2, \"target\": 11, \"edge_width\": 0.7269495955938966}, {\"source\": 2, \"target\": 13, \"edge_width\": 2.2193294093745917}, {\"source\": 2, \"target\": 6, \"edge_width\": 1.7520935198671008}, {\"source\": 3, \"target\": 2, \"edge_width\": 1.849414020403366}, {\"source\": 3, \"target\": 11, \"edge_width\": 1.9121900759718056}, {\"source\": 3, \"target\": 5, \"edge_width\": 2.2308773637372}, {\"source\": 3, \"target\": 6, \"edge_width\": 1.9121900759718056}, {\"source\": 4, \"target\": 9, \"edge_width\": 1.9121230877770754}, {\"source\": 4, \"target\": 10, \"edge_width\": 0.24498082507235372}, {\"source\": 4, \"target\": 5, \"edge_width\": 1.670473770022072}, {\"source\": 5, \"target\": 9, \"edge_width\": 0.24498082507235372}, {\"source\": 5, \"target\": 10, \"edge_width\": 1.6764922148709824}, {\"source\": 5, \"target\": 3, \"edge_width\": 2.3665127170859552}, {\"source\": 5, \"target\": 4, \"edge_width\": 1.671869395918413}, {\"source\": 5, \"target\": 13, \"edge_width\": 1.8968034877145823}, {\"source\": 6, \"target\": 1, \"edge_width\": 1.671869395918413}, {\"source\": 6, \"target\": 2, \"edge_width\": 1.751408164209148}, {\"source\": 6, \"target\": 3, \"edge_width\": 1.9123657220469334}, {\"source\": 6, \"target\": 12, \"edge_width\": 1.670473770022072}, {\"source\": 6, \"target\": 13, \"edge_width\": 0.695233637532668}, {\"source\": 7, \"target\": 0, \"edge_width\": 1.6704832859938215}, {\"source\": 7, \"target\": 8, \"edge_width\": 2.0310987442923265}, {\"source\": 7, \"target\": 12, \"edge_width\": 1.7773809979162978}, {\"source\": 8, \"target\": 10, \"edge_width\": 0.12738635029292655}, {\"source\": 8, \"target\": 11, \"edge_width\": 0.12738635029292655}, {\"source\": 8, \"target\": 7, \"edge_width\": 1.9965326815171534}, {\"source\": 9, \"target\": 0, \"edge_width\": 1.6704832859938215}, {\"source\": 9, \"target\": 4, \"edge_width\": 1.9109655121834923}, {\"source\": 9, \"target\": 13, \"edge_width\": 1.7460969449151347}, {\"source\": 9, \"target\": 5, \"edge_width\": 0.24418629302843217}, {\"source\": 10, \"target\": 8, \"edge_width\": 0.12188765708657694}, {\"source\": 10, \"target\": 4, \"edge_width\": 0.24418629302843217}, {\"source\": 10, \"target\": 11, \"edge_width\": 1.1510199137546777}, {\"source\": 10, \"target\": 12, \"edge_width\": 1.7520935198671008}, {\"source\": 10, \"target\": 5, \"edge_width\": 1.6704832859938215}, {\"source\": 11, \"target\": 8, \"edge_width\": 0.12188765708657694}, {\"source\": 11, \"target\": 10, \"edge_width\": 1.1482782625284986}, {\"source\": 11, \"target\": 3, \"edge_width\": 1.9123657220469334}, {\"source\": 11, \"target\": 2, \"edge_width\": 0.7237704009422388}, {\"source\": 12, \"target\": 10, \"edge_width\": 1.751408164209148}, {\"source\": 12, \"target\": 6, \"edge_width\": 1.671869395918413}, {\"source\": 12, \"target\": 7, \"edge_width\": 1.7898725220403537}, {\"source\": 13, \"target\": 9, \"edge_width\": 1.7439216473987302}, {\"source\": 13, \"target\": 2, \"edge_width\": 2.2998632633590437}, {\"source\": 13, \"target\": 5, \"edge_width\": 2.2966032945005566}, {\"source\": 13, \"target\": 6, \"edge_width\": 0.9662822805541772}]);}</script><iframe name=\"style_file0\" src=\"style_file0.html\" width=\"100%;\" height=\"435px\"></iframe></body></html>"
      ],
      "text/plain": [
       "<IPython.core.display.HTML object>"
      ]
     },
     "metadata": {},
     "output_type": "display_data"
    }
   ],
   "source": [
    "model.draw_network()"
   ]
  },
  {
   "cell_type": "code",
   "execution_count": 117,
   "metadata": {
    "extensions": {
     "jupyter_dashboards": {
      "version": 1,
      "views": {
       "grid_default": {
        "col": 0,
        "height": 13,
        "hidden": true,
        "row": 17,
        "width": 6
       },
       "report_default": {
        "hidden": true
       }
      }
     }
    }
   },
   "outputs": [],
   "source": [
    "# bqplot graph 1 update:\n",
    "df_total1 = model.df[model.regulations][(model.df['metric']=='BaselEEPE+') & (model.df['FS']==model.menu.fs_selector.value)].sum()\n",
    "y1 = df_total1.as_matrix()/1000000\n",
    "bar1.y = y1"
   ]
  },
  {
   "cell_type": "code",
   "execution_count": 118,
   "metadata": {
    "extensions": {
     "jupyter_dashboards": {
      "version": 1,
      "views": {
       "grid_default": {
        "hidden": true
       },
       "report_default": {
        "hidden": true
       }
      }
     }
    }
   },
   "outputs": [],
   "source": [
    "# bqplot graph 2 update:\n",
    "df_eepep = model.df[['CP']+model.regulations][(model.df['metric']=='BaselEEPE+') & (model.df['FS']==model.menu.fs_selector.value)].set_index('CP')\n",
    "y2 = df_eepep.T.as_matrix()/1000000\n",
    "bar2.y = y2"
   ]
  },
  {
   "cell_type": "code",
   "execution_count": 119,
   "metadata": {
    "extensions": {
     "jupyter_dashboards": {
      "version": 1,
      "views": {
       "grid_default": {
        "hidden": true
       },
       "report_default": {
        "hidden": false
       }
      }
     }
    }
   },
   "outputs": [],
   "source": [
    "# bqplot graph 3 update:\n",
    "df_eepep_rhop = model.df[['CP']+model.regulations][(model.df['metric']=='BaselEEPE_rho+') & (model.df['FS']==model.menu.fs_selector.value)].set_index('CP')\n",
    "df_eepep_rhop[df_eepep_rhop.columns] = df_eepep_rhop[df_eepep_rhop.columns].div(df_eepep_rhop[df_eepep_rhop.columns].sum(axis=0), axis=1).multiply(100)\n",
    "\n",
    "# hacky adding empty column on right side for legend\n",
    "df_eepep_rhop['     '] = 0\n",
    "y3 = df_eepep_rhop.as_matrix()\n",
    "\n",
    "bar3.y = y3"
   ]
  }
 ],
 "metadata": {
  "extensions": {
   "jupyter_dashboards": {
    "activeView": "grid_default",
    "version": 1,
    "views": {
     "grid_default": {
      "cellMargin": 10,
      "defaultCellHeight": 20,
      "maxColumns": 12,
      "name": "grid",
      "type": "grid"
     },
     "report_default": {
      "name": "report",
      "type": "report"
     }
    }
   }
  },
  "kernelspec": {
   "display_name": "Python 3",
   "language": "python",
   "name": "python3"
  },
  "language_info": {
   "codemirror_mode": {
    "name": "ipython",
    "version": 3
   },
   "file_extension": ".py",
   "mimetype": "text/x-python",
   "name": "python",
   "nbconvert_exporter": "python",
   "pygments_lexer": "ipython3",
   "version": "3.6.4"
  },
  "widgets": {
   "state": {
    "16d0296e6a83432dad66952aba508790": {
     "views": [
      {
       "cell_index": 14
      }
     ]
    },
    "49207a30168744fbbf6f784a4676fdc6": {
     "views": [
      {
       "cell_index": 13
      }
     ]
    },
    "a1d938b56d6f4bb982bd0618b5109960": {
     "views": [
      {
       "cell_index": 12
      }
     ]
    },
    "c3e9b3b06fc640238ee0cdeff0a2feb1": {
     "views": [
      {
       "cell_index": 15
      }
     ]
    }
   },
   "version": "1.2.0"
  }
 },
 "nbformat": 4,
 "nbformat_minor": 2
}
